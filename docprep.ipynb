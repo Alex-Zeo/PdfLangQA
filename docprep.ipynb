{
 "cells": [
  {
   "cell_type": "code",
   "execution_count": 1,
   "id": "0fc13429",
   "metadata": {},
   "outputs": [
    {
     "name": "stdout",
     "output_type": "stream",
     "text": [
      "Number of files successfully processed: 209\n",
      "All files processed successfully.\n"
     ]
    }
   ],
   "source": [
    "import os\n",
    "from PyPDF2 import PdfReader, PdfWriter\n",
    "from fpdf import FPDF\n",
    "\n",
    "# Path to the data folder\n",
    "data_folder = 'data'\n",
    "\n",
    "# Path to the results folder\n",
    "results_folder = 'results'\n",
    "\n",
    "# Counters for files and pages\n",
    "files_processed = 0\n",
    "unsupported_files = 0\n",
    "unsupported_file_names = []\n",
    "\n",
    "# Get the list of files in the data folder\n",
    "files = os.listdir(data_folder)\n",
    "\n",
    "# Get modification time for each file and sort the list of files by it\n",
    "files.sort(key=lambda x: os.path.getmtime(os.path.join(data_folder, x)))\n",
    "\n",
    "# Create a PDF writer object\n",
    "pdf_writer = PdfWriter()\n",
    "\n",
    "# Iterate over sorted files in the data folder\n",
    "for filename in files:\n",
    "    filepath = os.path.join(data_folder, filename)\n",
    "    if os.path.isfile(filepath):\n",
    "        file_extension = os.path.splitext(filename)[1]\n",
    "        \n",
    "        # Handle text files\n",
    "        if file_extension == '.txt':\n",
    "            with open(filepath, 'r') as file:\n",
    "                text = file.read()\n",
    "                pdf = FPDF()\n",
    "                pdf.add_page()\n",
    "                pdf.set_font(\"Arial\", size=12)\n",
    "                pdf.multi_cell(0, 10, text)\n",
    "                pdf.output(\"temp.pdf\")\n",
    "                pdf_reader = PdfReader(\"temp.pdf\")\n",
    "                for page in pdf_reader.pages:\n",
    "                    pdf_writer.add_page(page)\n",
    "            files_processed += 1\n",
    "        \n",
    "        # Handle PDF files\n",
    "        elif file_extension == '.pdf':\n",
    "            pdf_reader = PdfReader(filepath)\n",
    "            for page in pdf_reader.pages:\n",
    "                pdf_writer.add_page(page)\n",
    "            files_processed += 1\n",
    "\n",
    "        # Handle unsupported files\n",
    "        else:\n",
    "            unsupported_files += 1\n",
    "            unsupported_file_names.append(filename)\n",
    "\n",
    "# Output the merged text to a single .pdf file\n",
    "output_filename = 'merged.pdf'\n",
    "output_path = os.path.join(results_folder, output_filename)\n",
    "with open(output_path, 'wb') as output_file:\n",
    "    pdf_writer.write(output_file)\n",
    "\n",
    "# Print processing results\n",
    "print(f\"Number of files successfully processed: {files_processed}\")\n",
    "if unsupported_files > 0:\n",
    "    print(f\"Number of unsupported files: {unsupported_files}\")\n",
    "    print(f\"Unsupported file names: {unsupported_file_names}\")\n",
    "else:\n",
    "    print(\"All files processed successfully.\")\n"
   ]
  },
  {
   "cell_type": "code",
   "execution_count": null,
   "id": "baf35917",
   "metadata": {},
   "outputs": [],
   "source": []
  }
 ],
 "metadata": {
  "kernelspec": {
   "display_name": "Python 3 (ipykernel)",
   "language": "python",
   "name": "python3"
  },
  "language_info": {
   "codemirror_mode": {
    "name": "ipython",
    "version": 3
   },
   "file_extension": ".py",
   "mimetype": "text/x-python",
   "name": "python",
   "nbconvert_exporter": "python",
   "pygments_lexer": "ipython3",
   "version": "3.11.4"
  }
 },
 "nbformat": 4,
 "nbformat_minor": 5
}
